{
 "cells": [
  {
   "cell_type": "markdown",
   "metadata": {},
   "source": [
    "# Analysis of trajectories\n",
    "\n",
    "\n",
    "Here we analyse random trajectory. As an input we take the data in dataframe format:\n",
    "dataframe(x(t), y(t)). Here we focus on two-dimensional trajectory, although analysis can be done for N-dimensional space.\n",
    "\n",
    "\n",
    "### Main questions about trajectories\n",
    "Each trajectory seems random and it is hard to compare one $X_1(t)$ to another $X_2(t)$. \n",
    "Primarily we are interested in properties of spatial and temporal properties of $X_i(t)$: \n",
    "1. distribution of duration of stops of human trajectories p(t)\n",
    "2. distribution of length of jumps between two stops q(r)\n",
    "\n",
    "These properties (distributions p(t) and q(r)) can help us to see if different people have different patterns in their trajectories $X_i(t)$ of distributions of duration of stops and lengths of stops."
   ]
  },
  {
   "cell_type": "code",
   "execution_count": 1,
   "metadata": {},
   "outputs": [
    {
     "data": {
      "text/plain": [
       "Text(0.5, 0.98, 'Distribution of steps for RW mu=0.5 sigma= 20')"
      ]
     },
     "execution_count": 1,
     "metadata": {},
     "output_type": "execute_result"
    }
   ],
   "source": [
    "'''\n",
    "We generate random trajectory of continuous time random walk (CTRW) in N-dimensional space. We take N=2, easier to visualize.\n",
    "Alternatively we can also create or load dataframe with trajectories.\n",
    "\n",
    "moves_dataframe = pd.DataFrame(data={\n",
    "        'date': moves_processed_data['date'],\n",
    "        'steps': moves_processed_data['steps'],\n",
    "        'distance': moves_processed_data['distance'],\n",
    "        'latitude': moves_processed_data['lat'],\n",
    "        'longitude': moves_processed_data['lon']\n",
    "})\n",
    "#Plot distribution of moves from new dataframe.\n",
    "#Compare moves from 1st trajectory and 2nd trajectory\n",
    "sns.distplot(df1['distance'])\n",
    "'''\n",
    "\n",
    "\n",
    "import matplotlib.image as mpimg\n",
    "import numpy as np\n",
    "from itertools import cycle\n",
    "from mpl_toolkits.mplot3d import Axes3D\n",
    "from matplotlib import pyplot as plt\n",
    "\n",
    "\n",
    "'''\n",
    "Parameters of RW setting\n",
    "\n",
    "'''\n",
    "n= 500 #length of random walk\n",
    "mu = 0.5 #normal distribution\n",
    "sigma =20\n",
    "beta = 5 #exponential parameters\n",
    "a = 1 # pareto distribution\n",
    "weib = 1 #weibul parameter\n",
    "\n",
    "'''\n",
    "Simple RW motion with random steps\n",
    "'''\n",
    "\n",
    "x = np.cumsum(np.random.randn(n))\n",
    "y = np.cumsum(np.random.randn(n)) \n",
    "\n",
    "'''\n",
    "Now we introduce some CTRW motion in between the steps driven from \n",
    " Weibul distribution \n",
    " Pareto distribution \n",
    " Random normal distribution\n",
    "'''\n",
    "\n",
    "x =  np.cumsum(np.random.exponential(1./beta, n))\n",
    "y =  np.cumsum(np.random.exponential(1./beta, n))\n",
    "\n",
    "x_w = np.cumsum(np.random.weibull(weib, n))\n",
    "y_w = np.cumsum(np.random.weibull(weib, n))\n",
    "\n",
    "x =  np.cumsum(np.random.pareto(a, n))\n",
    "y =  np.cumsum(np.random.pareto(a, n))\n",
    "\n",
    "x_n =  np.cumsum(np.random.normal(mu, sigma, n))\n",
    "y_n =  np.cumsum(np.random.normal(mu, sigma, n))\n",
    "\n",
    "\n",
    "# We add 10 intermediary points between two\n",
    "# successive points. We interpolate x and y.\n",
    "\n",
    "\n",
    "'''\n",
    "Now the trajectory is recorded in two arrays x2, y2\n",
    "'''\n",
    "k = 10\n",
    "X_tr = np.interp(np.arange(n * k), np.arange(n) * k, x)\n",
    "Y_tr = np.interp(np.arange(n * k), np.arange(n) * k, y)\n",
    "#print('x2 rw', x2)\n",
    "\n",
    "\n",
    "X_tr2 = np.interp(np.arange(n * k), np.arange(n) * k, x_n)\n",
    "Y_tr2 = np.interp(np.arange(n * k), np.arange(n) * k, y_n)\n",
    "\n",
    "\n",
    "'''\n",
    "plotting one RW\n",
    "'''\n",
    "\n",
    "fig, ax = plt.subplots(1, 1, figsize=(8, 8))\n",
    "ax.scatter(X_tr, Y_tr, c=range(n * k), linewidths=0,\n",
    "           marker='o', s=3, cmap=plt.cm.jet,) # We draw our points with a gradient of colors.\n",
    "ax.axis('equal')\n",
    "ax.set_axis_off()\n",
    "#fig.suptitle('Distribution of steps for RW a='+str(a), fontsize=16)\n",
    "fig.suptitle('Distribution of steps for RW mu='+str(mu)+' sigma= '+str(sigma), fontsize=16)\n",
    "#plt.savefig('RW_motion_steps_normal_mu'+str(mu)+'sigma'+str(mu)+'.png')\n",
    "\n",
    "\n",
    "fig, ax = plt.subplots(1, 1, figsize=(8, 8))\n",
    "ax.scatter(X_tr2, Y_tr2, c=range(n * k), linewidths=0,\n",
    "           marker='o', s=3, cmap=plt.cm.jet,) # We draw our points with a gradient of colors.\n",
    "ax.axis('equal')\n",
    "ax.set_axis_off()\n",
    "#fig.suptitle('Distribution of steps for RW a='+str(a), fontsize=16)\n",
    "fig.suptitle('Distribution of steps for RW mu='+str(mu)+' sigma= '+str(sigma), fontsize=16)\n",
    "#plt.savefig('RW_motion_steps_normal_mu'+str(mu)+'sigma'+str(mu)+'.png')\n"
   ]
  },
  {
   "cell_type": "markdown",
   "metadata": {},
   "source": [
    "### Trajectories from real Data\n",
    "\n",
    "Loading csv files..."
   ]
  },
  {
   "cell_type": "code",
   "execution_count": 1,
   "metadata": {},
   "outputs": [],
   "source": [
    "import plotly.plotly as py\n",
    "import plotly.graph_objs as go\n",
    "import pandas as pd\n",
    "import csv\n",
    "\n",
    "\n",
    "# load data, it is very heavy \n",
    "\n",
    "#df = pd.read_csv('C:/Users/lyubo/Documents/DATA_networks/mobilitydata/bikes_sharing_data_technologiestiftung_berlin/pseudonomysed_raw.csv')\n",
    "#df.head()"
   ]
  },
  {
   "cell_type": "markdown",
   "metadata": {},
   "source": [
    "#  Analysis of trajectories\n",
    "Now we are ready to analyze our trajectory, encoded in two arrays (X_tr(t),Y_tr(t)). \n",
    "You can load your data in these files X_tr(t), Y_tr(t). \n",
    "We first do standard Continuous time rando walk analysis, then we come to more advanced analysis.\n",
    "\n",
    "\n",
    "### Continuous time random walk. Definition and ideas.\n",
    "\n",
    "*Continuous time random walk* (CTRW) is a generalization of a random walk where the wandering particle waits for a random time between jumps. \n",
    "It is a stochastic jump process with arbitrary distributions of jump lengths and waiting times.\n",
    "More generally it can be seen to be a special case of a Markov renewal process. \n",
    "\n",
    "Important properties of CTRW are r(t) and d(t) distributions of lengths of jumps and durations correspondingly. \n",
    "\n",
    "For more details look at code and papers here \n",
    "https://github.com/Liyubov/networks_random_walking\n",
    "\n",
    "### Analysis \n",
    "\n",
    "We use here several methods of analysis of trajectories using CTRW framework. \n",
    "\n",
    "1. Standard deviation. \n",
    "Given the input trajectory r(t) =(x(t),y(t)), we first estimate standard deviation for trajectory (STD), which is just the root of variance so var(τ)=(Var(r(t)-r(t-τ))), calculating it in Euclidean space.\n",
    "\n",
    "\n",
    "2. \n",
    "One can also estimate Hurst exponent, which is used as a measure of long-term memory of time series\n",
    "https://en.wikipedia.org/wiki/Hurst_exponent#Estimating_the_exponent.\n",
    "Hurst exponent relates to the autocorrelations of the time series, and the rate at which these decrease as the lag between pairs of values increases. \n",
    "For any trajectory we can write Var(τ) ∝ τ^(2H), where H is the Hurst exponent.\n",
    "Hence (Var(z(t)-z(t-τ))) ∝ τ^(2H). \n",
    "Then \n",
    "[log (Var(z(t)-z(t-τ))) / log τ ] / 2 ∝ H (gives the Hurst exponent) where we know the term in square brackets on far left is the slope of a log-log plot of tau and a corresponding set of variances.\n",
    "*Range of Hurst exponent.*\n",
    "A value H in the range 0.5–1 indicates a time series with long-term positive autocorrelation, meaning both that a high value in the series will probably be followed by another high value and that the values a long time into the future will also tend to be high. A value in the range 0 – 0.5 indicates a time series with long-term switching between high and low values in adjacent pairs, meaning that a single high value will probably be followed by a low value and that the value after that will tend to be high, with this tendency to switch between high and low values lasting a long time into the future. A value of H=0.5 can indicate a completely uncorrelated series.\n",
    "\n",
    "Basically, the idea of Hurst exponent is to characterize trajectory in terms of self-repetition. If Hurst exponent is between [0,0.5], then it indicates that trajectory has switches between different regimes. \n",
    "While if Hurst exponent  [0.5, 1], then it means that there are less switches between long and short jumps and trajectory has long-term positive autocorrelation. If Hurst exponent is 0.5, then it indicates completely uncorrelated series (although it depends on scales). \n",
    "\n",
    "\n"
   ]
  },
  {
   "cell_type": "code",
   "execution_count": 2,
   "metadata": {},
   "outputs": [
    {
     "name": "stdout",
     "output_type": "stream",
     "text": [
      "Calculating STD of trajectory \n",
      "std of trajectory :  10704.7809952\n",
      "hurtst exponent\n",
      "0.633381525116\n"
     ]
    }
   ],
   "source": [
    "\n",
    "'''\n",
    "We adapt the function to estimate:\n",
    "1.  STD of trajectories;\n",
    "2.  Hurst exponent for trajectories.\n",
    "\n",
    "First we estimate STD \n",
    "Then we estimate Hurst exponent. \n",
    "'''\n",
    "\n",
    "\n",
    "print(\"Calculating STD of trajectory \")  \n",
    "data1 = list(zip(X_tr, Y_tr))#zip together x and y coordinates\n",
    "data2 = list(zip(X_tr2, Y_tr2))\n",
    "#data1 = np.asarray(latlon1) # if imported from dataframe\n",
    "print(\"std of trajectory : \", np.std(data1)) \n",
    "\n",
    "\n",
    "lags = range(2,100)\n",
    "def hurst_exponen_chan(p):\n",
    "    '''\n",
    "    given series p(t), where t is time \n",
    "    '''    \n",
    "    variancetau = []; tau = []\n",
    "\n",
    "    for lag in lags: \n",
    "\n",
    "        #  Write the different lags into a vector to compute a set of tau or lags\n",
    "        tau.append(lag)\n",
    "\n",
    "        # Compute the log returns on all days, then compute the variance on the difference in log returns\n",
    "        # call this pp or the price difference\n",
    "        pp = np.subtract(p[lag:], p[:-lag])\n",
    "        variancetau.append(np.var(pp))\n",
    "\n",
    "    # we now have a set of tau or lags and a corresponding set of variances.\n",
    "    #print tau\n",
    "    #print variancetau\n",
    "\n",
    "    # plot the log of those variance against the log of tau and get the slope\n",
    "    m = np.polyfit(np.log10(tau),np.log10(variancetau),1)\n",
    "\n",
    "    hurst = m[0] / 2\n",
    "\n",
    "    return hurst\n",
    "\n",
    "print('hurtst exponent')\n",
    "print(hurst_exponen_chan(data1))\n"
   ]
  },
  {
   "cell_type": "markdown",
   "metadata": {},
   "source": [
    "### Estimation of scaling exponent of trajectory \n",
    "\n",
    "Given trajectory displacements r(t) = t^(-b-1),  we estimate b constant from the trajectory. \n",
    "Then  we fit this distribution of travelling distances to a power law. \n",
    "\n",
    "If parameter b<2, then this indicates that trajectories are reminiscent of scale-free random walks known as Le´vy flights. If parameter b>2, this indicates that trajectory generating process is related to normal spreading.\n",
    "\n",
    "For this we are using Python package for  analysis of diffusion data\n",
    "https://diffusion-analysis-md-simulations.readthedocs.io/en/latest/diffusion_analysis.html\n",
    "\n",
    "    *diffusion_analysis.fit_anomalous_diffusion_data(time_data_array, MSD_data_array, degrees_of_freedom=2)*\n",
    "    \n",
    "function should fit anomalous diffusion data to Equation 1 in [Kneller2011], and return appropriate diffusion parameters:    MSD=ND_αt^α.\n"
   ]
  },
  {
   "cell_type": "code",
   "execution_count": 6,
   "metadata": {},
   "outputs": [
    {
     "name": "stdout",
     "output_type": "stream",
     "text": [
      "Calculating beta constant of first trajectory \n",
      "std of trajectory :  734.079518065\n"
     ]
    }
   ],
   "source": [
    "'''\n",
    "We adapt the function to estimate:\n",
    "1.  STD of trajectories;\n",
    "2.  beta exponent \n",
    "'''\n",
    "\n",
    "import numpy as np \n",
    "#to prepare for diffusion analysis, load my github-hosted diffusion module:\n",
    "import sys; sys.path.append('/sansom/sc2/bioc1009/github_projects/diffusion_utility/diffusion_analysis_MD_simulations')\n",
    "#import diffusion_analysis\n",
    "\n",
    "\n",
    "print(\"Calculating beta constant of first trajectory \")  \n",
    "\n",
    "#load trajectory in 2D \n",
    "#data1 = np.asarray(latlon1)\n",
    "print(\"std of trajectory : \", np.std(data1)) \n",
    "\n",
    "#diffusion_analysis.fit_anomalous_diffusion_data(time_data_array, MSD_data_array)\n"
   ]
  },
  {
   "cell_type": "markdown",
   "metadata": {},
   "source": [
    "## Convex hull analysis of trajectories \n",
    "\n",
    "Given trajectory in 2D (in general in N dimensions) we can characterize some of its properties by the applying convex hull algorithms. \n",
    "\n",
    "### Example\n",
    "\n",
    "Given random trajectory in N-dimensions \n",
    "<img src=\"convex.png\" alt=\"Drawing\" style=\"width: 200px;\"/>\n",
    "we draw the polygon around it, and estimate its volume, which allows us to characterize the trajectory qualitatively .\n",
    "\n",
    "\n",
    "General information about convex hull\n",
    "https://en.wikipedia.org/wiki/Convex_hull"
   ]
  },
  {
   "cell_type": "code",
   "execution_count": 6,
   "metadata": {},
   "outputs": [
    {
     "data": {
      "image/png": "[encoded data removed]",
      "text/plain": [
       "<Figure size 432x288 with 1 Axes>"
      ]
     },
     "metadata": {
      "needs_background": "light"
     },
     "output_type": "display_data"
    },
    {
     "name": "stdout",
     "output_type": "stream",
     "text": [
      "calculating area\n",
      "Volume is 11401500.18\n",
      "Area is 22621.88\n"
     ]
    },
    {
     "data": {
      "image/png": "[encoded data removed]",
      "text/plain": [
       "<Figure size 432x288 with 1 Axes>"
      ]
     },
     "metadata": {
      "needs_background": "light"
     },
     "output_type": "display_data"
    },
    {
     "name": "stdout",
     "output_type": "stream",
     "text": [
      "calculating area\n",
      "Volume is 246290.59\n",
      "Area is 1916.97\n"
     ]
    }
   ],
   "source": [
    "import matplotlib.pyplot as plt\n",
    "import numpy as np\n",
    "import os\n",
    "#from RDP import rdp #import rdp\n",
    "import networkx as nx\n",
    "from scipy.spatial import ConvexHull\n",
    "\n",
    "\n",
    "N = 10 # number of points  \n",
    "M = 5 # dimensions\n",
    "\n",
    "\"\"\"\n",
    "LOADING input data:\n",
    "# entries:  public_i pub_tag_i pub_time_i  \n",
    "# public#i (Name and title encoded into number -> separate table) \n",
    "# tag of publication: there are finite number of tags (some of them are not corresponding to one field)\n",
    "# time index is better to make in linear scale -> 1:365*y, where y is number of years)\n",
    "\"\"\"\n",
    "\n",
    "#data points should be data from trajectories of researchers\n",
    "datarandom = np.random.rand(N,M) #generate N datapoints in M dimensions\n",
    "#data = np.random.rand(30, 2)   # 30 random points in 2-D\n",
    "\n",
    "#load trajectory from the file or from above\n",
    "#data1 = np.asarray(latlon1) #give array, not the list\n",
    "#data2 = np.asarray(latlon2) #get data from the second participant\n",
    "\n",
    "                       \n",
    "\"\"\"\n",
    "function ALGORITHM convext hull\n",
    "\"\"\"\n",
    "         \n",
    "\n",
    "def convex_hull(data):\n",
    "              \n",
    "    hull = ConvexHull(data)\n",
    "    #print('data', data)\n",
    "\n",
    "    plt.plot(data[:,0], data[:,1], 'o')\n",
    "    for simplex in hull.simplices:\n",
    "        plt.plot(data[simplex, 0], data[simplex, 1], 'k-')\n",
    "    \n",
    "    plt.plot(data[hull.vertices,0], data[hull.vertices,1], 'r--', lw=2)\n",
    "    plt.plot(data[hull.vertices[0],0], data[hull.vertices[0],1], 'ro')\n",
    "    plt.show()   \n",
    "    \"\"\"\n",
    "    estimate the volume of the convex hull for trajectory in time frame\n",
    "    \"\"\" \n",
    "    print('calculating area')\n",
    "    points = np.array([[-1,-1, 1], [1, 1, 0], [-1, 1, 0], [1,-1, -1]])\n",
    "    hull = ConvexHull(data)\n",
    "    print(\"Volume is %2.2f\" % hull.volume) # N-d object\n",
    "    print(\"Area is %2.2f\" % hull.area) # (N-1)-d object\n",
    "\n",
    "    \n",
    "'''\n",
    "Now we apply convex hull to data to show how it works\n",
    "We draw convex hull around trajectory\n",
    "'''\n",
    "convex_hull(np.asarray(data1))\n",
    "#convex_hull(data2)\n",
    "convex_hull(np.asarray(data2))\n",
    "    "
   ]
  },
  {
   "cell_type": "markdown",
   "metadata": {},
   "source": [
    "### Convex hull sliding window analysis of trajectories\n",
    "We also analyze trajectory using sliding window analysis, where we measure the volume of convex hull $V(t,t+ \\Delta t)$ for trajectory $Tr(t)=(X(t),Y(t))$ during the period of ($\\Delta t$). \n",
    "To read more about convex hull algorithm applied to particle trajectories \n",
    "https://arxiv.org/pdf/1708.06517.pdf"
   ]
  },
  {
   "cell_type": "code",
   "execution_count": 11,
   "metadata": {},
   "outputs": [
    {
     "name": "stdout",
     "output_type": "stream",
     "text": [
      "making sliding window analysis...\n",
      "steps  10000\n"
     ]
    },
    {
     "data": {
      "image/png": "[encoded data removed]",
      "text/plain": [
       "<Figure size 432x288 with 1 Axes>"
      ]
     },
     "metadata": {
      "needs_background": "light"
     },
     "output_type": "display_data"
    }
   ],
   "source": [
    "\n",
    "\n",
    "import matplotlib.pyplot as plt\n",
    "import numpy as np\n",
    "import os\n",
    "#from RDP import rdp #import rdp\n",
    "import networkx as nx\n",
    "from scipy.spatial import ConvexHull\n",
    "\n",
    "\n",
    "\"\"\"\n",
    "we use the same data1 file as in cells above \n",
    "we specify parameters of convex hull analysis below\n",
    "\"\"\"\n",
    "\n",
    "#N = 10 # number of points for random trajectory, if it is used \n",
    "#M = 5 # dimensions of random trajectory\n",
    "size_window = 1000 #sliding window should not be too small, otherwise it is not convex\n",
    "\n",
    "                       \n",
    "def convex_hull_window(data):\n",
    "              \n",
    "    hull = ConvexHull(data)\n",
    "\n",
    "#    plt.plot(data[:,0], data[:,1], 'o')\n",
    "#    for simplex in hull.simplices:\n",
    "#        plt.plot(data[simplex, 0], data[simplex, 1], 'k-')   \n",
    "#    plt.plot(data[hull.vertices,0], data[hull.vertices,1], 'r--', lw=2)\n",
    "#    plt.plot(data[hull.vertices[0],0], data[hull.vertices[0],1], 'ro')\n",
    "#    plt.show()   \n",
    "\n",
    "\n",
    "    #points = np.array([[-1,-1, 1], [1, 1, 0], [-1, 1, 0], [1,-1, -1]])\n",
    "    #hull = ConvexHull(data)\n",
    "    #print(hull.volume) # Volume of N-d object \"Volume is %2.2f\" % \n",
    "    #print(\"Area is %2.2f\" % hull.area) # (N-1)-d object\n",
    "    return hull.volume\n",
    "\n",
    "\n",
    "def convex_hull_sliding_window(data, steps, size_window):\n",
    "    '''\n",
    "    data - trajectory\n",
    "    steps - number of time steps in trajectory \n",
    "    size_window - time size of the sliding window\n",
    "    '''\n",
    "\n",
    "    volume_array = np.zeros(steps)\n",
    "    \n",
    "    for itime in range(0, int((steps-size_window)/2)): #steps-1):\n",
    "        #print(itime)\n",
    "        time_max = (itime +size_window)%(steps+1) #calculate maximum time for sliding window\n",
    "        data_i = data[itime: time_max] #cut data_i  from origianal data by cutting trajectory \n",
    "        volume_array[itime] = convex_hull_window(data_i)#apply convex_hull function\n",
    "        #make exception for non-convex areas\n",
    "    return volume_array\n",
    "\n",
    "'''\n",
    "Apply sliding window analysis to example trajectory\n",
    "'''\n",
    "\n",
    "\n",
    "print('making sliding window analysis...')\n",
    "steps = np.size(data1) \n",
    "print('steps ', steps)\n",
    "\n",
    "conv_array1 = convex_hull_sliding_window(np.asarray(data1), steps, size_window)\n",
    "\n",
    "conv_array2 = convex_hull_sliding_window(np.asarray(data2), steps, size_window)\n",
    "\n",
    "\n",
    "#np.savetxt('convex_array.out', conv_array)#, delimiter=',') \n",
    "plt.plot(conv_array1)\n",
    "plt.plot(conv_array2)\n",
    "plt.title(\"Convex hull volume\")\n",
    "plt.xlabel(\"time\")\n",
    "plt.ylabel(\"Convex volume\")\n",
    "plt.legend(['Pareto distribution', 'Normal distribution']) #plt.legend([\"Time window size\"])\n",
    "plt.show()\n",
    "\n",
    "\n",
    "# Plot is not perfect, need to cut the tail of the curve"
   ]
  },
  {
   "cell_type": "markdown",
   "metadata": {},
   "source": [
    "### Observations\n",
    "As you can see convex hull analysis allows to give quantitative characteristics of the trajectory in time. \n",
    "This sliding window analysis however depends on the size of the window. Therefore we need some other complementary characteristics for measures the long-term trends of trajectories."
   ]
  },
  {
   "cell_type": "markdown",
   "metadata": {},
   "source": [
    "### Scaling analysis \n",
    "\n",
    "We can show here that many trajectories behaviour can be described mathematically on many spatio-temporal scales by a two-parameter continuous-time random walk model (CTRW)."
   ]
  },
  {
   "cell_type": "code",
   "execution_count": 5,
   "metadata": {},
   "outputs": [
    {
     "name": "stdout",
     "output_type": "stream",
     "text": [
      "2.00443885195\n"
     ]
    }
   ],
   "source": [
    "import numpy as np\n",
    "\n",
    "#here we calculate MSD for our trajectory\n",
    "\n",
    "r = np.sqrt(X_tr**2 + Y_tr**2)\n",
    "diff = np.diff(r) #this calculates r(t + dt) - r(t)\n",
    "diff_sq = diff**2\n",
    "MSD = np.mean(diff_sq)\n",
    "\n",
    "print(MSD)"
   ]
  },
  {
   "cell_type": "markdown",
   "metadata": {},
   "source": [
    "Plotting $P(\\Delta r)$ of trajectories suggests that  motion follows a truncated\n",
    "Levy flights: \n",
    "\\begin{equation}\n",
    "P(\\Delta r = (\\Delta r + \\Delta r_0 )^{-\\beta} exp(-\\Delta r/k), \n",
    "\\end{equation}\n",
    "where $\\beta$ is exponent of Levy flight. \n",
    "\n",
    "However, the observed shape of $P(\\Delta r)$ could be explained\n",
    "by three distinct hypotheses: first, each individual follows a Levy trajectory with jump size distribution given by equation (1) (hypothesis A); second, the observed distribution captures a population-based heterogeneity, corresponding to the inherent differences between individuals (hypothesis B); and third, a population-based heterogeneity coexists with individual Levy trajectories (hypothesis C); hence, equation (1) represents a convolution of hypotheses A and B. \n"
   ]
  },
  {
   "cell_type": "code",
   "execution_count": 8,
   "metadata": {},
   "outputs": [
    {
     "name": "stdout",
     "output_type": "stream",
     "text": [
      "<class 'numpy.ndarray'>\n"
     ]
    },
    {
     "data": {
      "image/png": "[encoded data removed]",
      "text/plain": [
       "<Figure size 432x288 with 1 Axes>"
      ]
     },
     "metadata": {
      "needs_background": "light"
     },
     "output_type": "display_data"
    },
    {
     "data": {
      "image/png": "[encoded data removed]",
      "text/plain": [
       "<Figure size 432x288 with 1 Axes>"
      ]
     },
     "metadata": {
      "needs_background": "light"
     },
     "output_type": "display_data"
    }
   ],
   "source": [
    "### First we calculate the distribution P(\\delta) of jumps\n",
    "import numpy as np\n",
    "import seaborn\n",
    "\n",
    "\n",
    "\n",
    "\n",
    "def calc_jump_dist(Xarray,Yarray): #function to calculate distribution of steps\n",
    "   # given arrays Xarray, Yarray of trajectories\n",
    "    dist = np.zeros(len(Xarray))\n",
    "    for i in range(0, len(Xarray)-1):\n",
    "        dist[i] = calc_dist(Xarray[i],Xarray[i+1],Yarray[i],Yarray[i+1])\n",
    "    return dist\n",
    "    \n",
    "    \n",
    "    \n",
    "def calc_dist(x1,x2,y1,y2): #function to calculate distance between 2 points in 2D\n",
    "    return np.sqrt((x1-x2)*(x1-x2)+(y1-y2)*(y1-y2))\n",
    "\n",
    "\n",
    "# make sure that we get the right type of the data\n",
    "print(type(X_tr))\n",
    "\n",
    "# now we apply this function to routes dataframe\n",
    "jumps_lengths = calc_jump_dist(X_tr,Y_tr)\n",
    "\n",
    "\n",
    "\n",
    "# now we are plotting the histogram \n",
    "plt.hist(jumps_lengths, bins=20)\n",
    "ax.set_xscale('log')\n",
    "plt.show()\n",
    "\n",
    "seaborn.distplot(jumps_lengths, bins=20)\n",
    "plt.show()"
   ]
  },
  {
   "cell_type": "markdown",
   "metadata": {},
   "source": [
    "### Analysis of trajectories \n",
    "\n",
    "In order to analyze trajectories and verify the hypothesis about the data we need to make further calculations.\n",
    "\n",
    "\n",
    "Plotting $P(\\Delta r)$ of trajectories (plots to insert from above) suggests that  motion follows a truncated\n",
    "Levy flights: \n",
    "\\begin{equation}\n",
    "P(\\Delta r = (\\Delta r + \\Delta r_0 )^{-\\beta} exp(-\\Delta r/k), \n",
    "\\end{equation}\n",
    "where $\\beta$ is exponent of Levy flight. \n",
    "\n",
    "However, the observed shape of $P(\\Delta r)$ could be explained\n",
    "by three distinct hypotheses: first, each individual follows a Levy trajectory with jump size distribution given by equation (1) (hypothesis A); second, the observed distribution captures a population-based heterogeneity, corresponding to the inherent differences between individuals (hypothesis B); and third, a population-based heterogeneity coexists with individual Levy trajectories (hypothesis C); hence, equation (1) represents a convolution of hypotheses A and B. \n",
    "\\\\\n",
    "To distinguish between hypotheses A, B and C, we can use standard techniques [M.Gonzales, et al. 2008] the radius of gyration for each individual, or using convex hull analysis [\\url{ https://github.com/Liyubov/random_walks_and_networks/blob/master/analysis_of_trajectories.ipynb}].\n",
    "\n",
    "Formula for gyration radius:\n",
    "\n",
    "$r^a_g(t) = \\sqrt{1/n^a_c(t) \\sum (r^a_i-r^a_c)^2} $,\n",
    "\n",
    "where $r^a_i$ represents the $i = 1, ..., n^a_c(t)$ positions recorded for a particle, $r^a_c$ is the center of mass of the trajectory."
   ]
  },
  {
   "cell_type": "code",
   "execution_count": 5,
   "metadata": {},
   "outputs": [
    {
     "name": "stderr",
     "output_type": "stream",
     "text": [
      "C:\\Users\\lyubo\\Anaconda3\\envs\\default\\lib\\site-packages\\ipykernel_launcher.py:36: RuntimeWarning: divide by zero encountered in double_scalars\n",
      "No handles with labels found to put in legend.\n"
     ]
    },
    {
     "name": "stdout",
     "output_type": "stream",
     "text": [
      "5000\n",
      "centre of masses [ 9.75313619  9.77594481]\n",
      "radius gyration 2834.46452027\n",
      "radius gyration [           inf    11.92917361    10.31595812 ...,  2833.02162709\n",
      "  2833.88512234  2834.74800925]\n"
     ]
    },
    {
     "data": {
      "image/png": "[encoded data removed]",
      "text/plain": [
       "<Figure size 432x288 with 1 Axes>"
      ]
     },
     "metadata": {
      "needs_background": "light"
     },
     "output_type": "display_data"
    }
   ],
   "source": [
    "# Calculation of gyration radius of trajectories \n",
    "\n",
    "import numpy as np\n",
    "import seaborn\n",
    "\n",
    "# Calculate centre of masses for X_tr and Y_tr \n",
    "# First we split them into pairs (X_tr1, Y_tr1), ... \n",
    "Tr_array = np.zeros((2,np.size(X_tr)))\n",
    "print(np.size(X_tr))\n",
    "\n",
    "for i in range(0,np.size(X_tr)):\n",
    "    Tr_array[0,i] = X_tr[i]\n",
    "    Tr_array[1,i] = Y_tr[i]\n",
    "\n",
    "\n",
    "nonZeroMasses = Tr_array[np.nonzero(Tr_array[:,2])] # Not really necessary, can just use masses because 0 mass used as weight will work just fine.\n",
    "CM = np.average(nonZeroMasses[:,:2], axis=0, weights=nonZeroMasses[:,2])\n",
    "print('centre of masses', CM)\n",
    "\n",
    "# Now we make summation through trajectory elements \n",
    "\n",
    "rad_gyr = 0\n",
    "for i in range(0, np.size(X_tr)):\n",
    "    rad_gyr = rad_gyr + (X_tr[i] - CM[0])*(X_tr[i] - CM[0]) + (Y_tr[i] - CM[1])*(Y_tr[i] - CM[1])\n",
    "rad_gyr = np.sqrt(rad_gyr*1./np.size(X_tr))\n",
    "print('radius gyration', rad_gyr)\n",
    "\n",
    "\n",
    "# Now we make summation through trajectory elements in Time\n",
    "\n",
    "rad_gyr = np.zeros(np.size(X_tr))\n",
    "sum_gyr = 0\n",
    "#rad_gyr[0] = (X_tr[0] - CM[0])*(X_tr[0] - CM[0]) + (Y_tr[0] - CM[1])*(Y_tr[0] - CM[1])\n",
    "for i in range(0, np.size(X_tr)):\n",
    "    sum_gyr = sum_gyr + (X_tr[i] - CM[0])*(X_tr[i] - CM[0]) + (Y_tr[i] - CM[1])*(Y_tr[i] - CM[1])\n",
    "    rad_gyr[i] = np.sqrt(sum_gyr*1./i)\n",
    "print('radius gyration', rad_gyr)\n",
    "\n",
    "plt.plot(rad_gyr) # % tuple(popt))\n",
    "\n",
    "\n",
    "plt.xlabel('time')\n",
    "plt.ylabel('radius of gyration')\n",
    "plt.legend()\n",
    "plt.show()\n",
    "\n",
    "\n"
   ]
  },
  {
   "cell_type": "markdown",
   "metadata": {},
   "source": [
    "### Fitting curves \n",
    "Plot of curves and their fit."
   ]
  },
  {
   "cell_type": "code",
   "execution_count": 3,
   "metadata": {},
   "outputs": [
    {
     "data": {
      "image/png": "[encoded data removed]",
      "text/plain": [
       "<Figure size 432x288 with 1 Axes>"
      ]
     },
     "metadata": {
      "needs_background": "light"
     },
     "output_type": "display_data"
    }
   ],
   "source": [
    "\n",
    "import matplotlib.pyplot as plt\n",
    "from scipy.optimize import curve_fit\n",
    "import numpy as np\n",
    "\n",
    "def func(x, a, b, c):\n",
    "    return a * np.exp(-b * x) + c\n",
    "\n",
    "#Example data\n",
    "#Define the data to be fit with some noise:\n",
    "\n",
    "xdata = np.linspace(0, 4, 50)\n",
    "y = func(xdata, 2.5, 1.3, 0.5)\n",
    "np.random.seed(1729)\n",
    "y_noise = 0.2 * np.random.normal(size=xdata.size)\n",
    "ydata = y + y_noise\n",
    "plt.plot(xdata, ydata, 'b-', label='data')\n",
    "\n",
    "#Fit for the parameters a, b, c of the function func:\n",
    "\n",
    "\n",
    "popt, pcov = curve_fit(func, xdata, ydata)\n",
    "popt\n",
    "\n",
    "plt.plot(xdata, func(xdata, *popt), 'r-',\n",
    "         label='fit: a=%5.3f, b=%5.3f, c=%5.3f' % tuple(popt))\n",
    "\n",
    "#Constrain the optimization to the region of 0 <= a <= 3, 0 <= b <= 1 and 0 <= c <= 0.5:\n",
    "\n",
    "popt, pcov = curve_fit(func, xdata, ydata, bounds=(0, [3., 1., 0.5]))\n",
    "popt\n",
    "\n",
    "plt.plot(xdata, func(xdata, *popt), 'g--',\n",
    "         label='fit: a=%5.3f, b=%5.3f, c=%5.3f' % tuple(popt))\n",
    "\n",
    "\n",
    "plt.xlabel('x')\n",
    "plt.ylabel('y')\n",
    "plt.legend()\n",
    "plt.show()\n",
    "\n"
   ]
  },
  {
   "cell_type": "code",
   "execution_count": null,
   "metadata": {},
   "outputs": [],
   "source": []
  }
 ],
 "metadata": {
  "kernelspec": {
   "display_name": "Python 3",
   "language": "python",
   "name": "python3"
  },
  "language_info": {
   "codemirror_mode": {
    "name": "ipython",
    "version": 3
   },
   "file_extension": ".py",
   "mimetype": "text/x-python",
   "name": "python",
   "nbconvert_exporter": "python",
   "pygments_lexer": "ipython3",
   "version": "3.6.7"
  }
 },
 "nbformat": 4,
 "nbformat_minor": 2
}
