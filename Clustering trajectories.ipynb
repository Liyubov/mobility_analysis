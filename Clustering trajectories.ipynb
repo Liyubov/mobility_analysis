{
 "cells": [
  {
   "cell_type": "markdown",
   "metadata": {},
   "source": [
    "# Clustering algorithms \n",
    "Here we discuss several algorithms applied to trajectories based on supervised, semi-supervised, non-supervised clustering. We load the data of mobility of randomized user and then visualise these data hilighting main locations of visit. \n"
   ]
  },
  {
   "cell_type": "code",
   "execution_count": 1,
   "metadata": {},
   "outputs": [],
   "source": [
    "import pandas as pd \n",
    "import numpy as np\n",
    "import matplotlib.pyplot as plt\n",
    "from sklearn.cluster import KMeans\n",
    "%matplotlib inline\n",
    "from sklearn.cluster import KMeans \n",
    "\n",
    "\n",
    "def k_mean_from_data(df, k):\n",
    "    '''\n",
    "    input data: dataframe with coordinates and k clustere\n",
    "    output data: \n",
    "    Kmean (k clusters) of type sklearn.cluster.k_means_.KMeans\n",
    "    X_new array of k cluster centres\n",
    "    '''\n",
    "    \n",
    "    # load real data of coordinates \n",
    "\n",
    "    Y = df.latitudestart.values #-2 * np.random.rand(100,2)\n",
    "    X = df.longitudestart.values\n",
    "    Y = np.append(Y, df.latitudestop.values)\n",
    "    X = np.append(X, df.longitudestop.values)\n",
    "    \n",
    "    plt.scatter(X, Y, s = 50, c = 'b')\n",
    "    plt.show()\n",
    "\n",
    "    size_origin = np.shape(df.latitudestop.values)\n",
    "    print('size of dataframe ', size_origin)\n",
    "\n",
    "    size = X.shape\n",
    "    X_data = np.zeros(( int(size[0]),2))\n",
    "    #print(X_data.shape)\n",
    "                  \n",
    "                  \n",
    "    X_data[:,0] = X \n",
    "    X_data[:,1] = Y\n",
    "          \n",
    "    print('applying k-means to data')\n",
    "\n",
    "    #print('plotting data on a map with centres')\n",
    "    \n",
    "    Kmean = KMeans(n_clusters=k) #In this case, we arbitrarily gave k (n_clusters) an arbitrary value of two\n",
    "    Kmean.fit(X_data)\n",
    "\n",
    "    print('centres of clustering calculated')\n",
    "    #print(Kmean.cluster_centers_)\n",
    "    array_cent = Kmean.cluster_centers_\n",
    "\n",
    "    \n",
    "    X_new = np.zeros((size_origin[0],2)) \n",
    "\n",
    "    X_new[:,0] = Kmean.labels_[0:size_origin[0]]\n",
    "    X_new[:,1] = Kmean.labels_[size_origin[0]:size[0]]\n",
    "    \n",
    "\n",
    "    return Kmean, X_new"
   ]
  },
  {
   "cell_type": "code",
   "execution_count": null,
   "metadata": {},
   "outputs": [],
   "source": [
    "# loading the data#########\n",
    "filepath = 'data.csv'\n",
    "df = pd.read_csv(filepath)\n",
    "df.head()\n",
    "###########################\n",
    "\n",
    "\n",
    "# defining number of clusters for data\n",
    "k = 20 \n",
    "\n",
    "# applying to data\n",
    "Kmean_res, X_new = k_mean_from_data(df, k)\n",
    "print('type', type(Kmean_res))\n",
    "print('each point', Kmean_res.labels_)\n",
    "print('initial data')\n",
    "df.head()"
   ]
  },
  {
   "cell_type": "markdown",
   "metadata": {},
   "source": [
    "Another algorithm for clustering of trajectories, which is based on the optimised algorithms is Dijkstra-based  DynamicTime  Warping  (DTW)  distance  measure, defined between each two trajectories in the article /https://ieeexplore.ieee.org/document/8424474\n",
    "\n",
    "## Algorithm \n",
    "1. Maximin  sampling:This  step  select $k'$ (an  approximation  of  the  number  of  clusters  in  the  dataset  (givenas  an  input))  distinguished  objects  that  partition  the dataset  into $k'$ (almost)  equally  sized  partitions  usingthe maximin sampling scheme.\n",
    "2. Choosing  n  samples: Trajectories  are  then  randomlychosen from each of the $k'$ partitions to generate a totalofnsample trajectories (given as an input), wherenissmall so that VAT/iVAT can be effectively applied to thensamples.\n",
    "3. VAT/iVAT:VAT/iVAT  is  then  applied  to  the  small Dn distance matrix of thensamples to provide an estimate of the number of clusters in the dataset and the subse-quent clustering.\n",
    "4. NPR:The $k$-partition of the n samples is non-iteratively extended  to  the  remaining  objects  in  the  dataset  using the nearest prototype rule."
   ]
  },
  {
   "cell_type": "code",
   "execution_count": null,
   "metadata": {},
   "outputs": [],
   "source": []
  }
 ],
 "metadata": {
  "kernelspec": {
   "display_name": "Python 3",
   "language": "python",
   "name": "python3"
  },
  "language_info": {
   "codemirror_mode": {
    "name": "ipython",
    "version": 3
   },
   "file_extension": ".py",
   "mimetype": "text/x-python",
   "name": "python",
   "nbconvert_exporter": "python",
   "pygments_lexer": "ipython3",
   "version": "3.7.3"
  }
 },
 "nbformat": 4,
 "nbformat_minor": 2
}
