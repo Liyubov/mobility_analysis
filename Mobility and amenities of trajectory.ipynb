{
 "cells": [
  {
   "cell_type": "markdown",
   "metadata": {},
   "source": [
    "# Mobility and amenities calculation\n",
    "\n",
    "*Authour: Liubov, Collaborators: Bastian, Marc, Vero* \n",
    "\n",
    "**Algorithm**\n",
    "1. Load the data on mobility from Open Humans, data formats are described https://www.openhumans.org/data-management/datatypes/4 \n",
    "2. Given the location we extract information about name of the space and give suggestions for places (amenities) around it. We use osmnx package for that."
   ]
  },
  {
   "cell_type": "markdown",
   "metadata": {},
   "source": [
    "# 1. Data loading\n",
    "First we load mobility data, make analysis and load the dataframe of it. "
   ]
  },
  {
   "cell_type": "code",
   "execution_count": 8,
   "metadata": {},
   "outputs": [],
   "source": [
    "# function to read the data \n",
    "\n",
    "import os\n",
    "import json\n",
    "import requests\n",
    "from datetime import datetime\n",
    "from collections import defaultdict\n",
    "import pandas as pd\n",
    "import numpy as np\n",
    "import seaborn as sns\n",
    "\n",
    "\n",
    "def dataframe_from_json(moves_data):\n",
    "    for datapoint in moves_data:\n",
    "        # we need to have observed segments for that day. If moves wasn't running we ignore the day\n",
    "        if datapoint['segments'] != None:\n",
    "            # did we stay in a place that day and did we walk that day?\n",
    "            has_places = False\n",
    "            walked = False\n",
    "            for i in datapoint['segments']:\n",
    "                if i['type'] == 'place':\n",
    "                        # yes, we were in one place w/o moving around too much, we can keep this day\n",
    "                        has_places = True\n",
    "                        \n",
    "            # is this day in our date range of interest and has data?\n",
    "            if datapoint['summary'] != None and has_places and datetime.strptime(datapoint['date'],\"%Y%m%d\") > datetime.strptime(DATARANGE_START,\"%Y-%m-%d\"):\n",
    "                moves_processed_data['date'].append(datapoint['date'])\n",
    "                for activity in datapoint['summary']:\n",
    "                    if activity['activity'] == 'walking':\n",
    "                        moves_processed_data['steps'].append(activity['steps'])\n",
    "                        moves_processed_data['distance'].append(activity['distance'])\n",
    "                        walked = True\n",
    "                        \n",
    "                # in case of not walking, step count is zero\n",
    "                if not walked:\n",
    "                    moves_processed_data['steps'].append(0)\n",
    "                    moves_processed_data['distance'].append(0)  \n",
    "                    \n",
    "                # distribution of stops lengths\n",
    "                stops_distrib = duration_stop_distribution(datapoint['segments'])\n",
    "                moves_processed_data['duration'].append(stops_distrib)\n",
    "                location = longest_daily_location(datapoint['segments'])\n",
    "                moves_processed_data['lat'].append(location['lat'])\n",
    "                moves_processed_data['lon'].append(location['lon'])    \n",
    "    \n",
    "    \n",
    "    \n",
    "    #Now that we have all of the data we can convert it into a single pandas dataframe for easier processing and visualization\n",
    "    \n",
    "    moves_dataframe = pd.DataFrame(data={\n",
    "        'date': moves_processed_data['date'],\n",
    "        'steps': moves_processed_data['steps'],\n",
    "        'distance': moves_processed_data['distance'],\n",
    "        'latitude': moves_processed_data['lat'],\n",
    "        'longitude': moves_processed_data['lon']\n",
    "    })   \n",
    "    \n",
    "    return moves_dataframe"
   ]
  },
  {
   "cell_type": "code",
   "execution_count": 11,
   "metadata": {},
   "outputs": [],
   "source": [
    "# main function analyzing moves_data    \n",
    "DATARANGE_START = \"2016-06-01\"\n",
    "DATARANGE_END = \"2018-05-08\"\n",
    "\n",
    "import os\n",
    "import json\n",
    "import requests\n",
    "from datetime import datetime\n",
    "from collections import defaultdict\n",
    "import pandas as pd\n",
    "import numpy as np\n",
    "import seaborn as sns\n",
    "\n",
    "\n",
    "\n",
    "\n",
    "#### sets the axis label sizes for seaborn #######################\n",
    "rc={'font.size': 14, 'axes.labelsize': 14, 'legend.fontsize': 14.0, \n",
    "    'axes.titlesize': 14, 'xtick.labelsize': 14, 'ytick.labelsize': 14}\n",
    "sns.set(rc=rc)\n",
    "##################################################################\n",
    "\n",
    "\n",
    "with open('C:/Users/lyubo/Documents/DATA_networks/mobilitydata/openhumans/moves-storyline-data98972.json') as f:\n",
    "    moves_data = json.load(f)   \n",
    "\n",
    "\n",
    "\n"
   ]
  },
  {
   "cell_type": "code",
   "execution_count": null,
   "metadata": {},
   "outputs": [],
   "source": [
    "# function to get data from json data\n",
    "df1 = dataframe_from_json(moves_data)\n",
    "#df2 = dataframe_from_json(moves_data2)\n",
    "#df3 = dataframe_from_json(moves_data3)\n",
    "\n",
    "\n",
    "print('Now data looks like...')\n",
    "df1.head(10)"
   ]
  },
  {
   "cell_type": "markdown",
   "metadata": {},
   "source": [
    "# 2. Analysis of amenities around the locations  \n",
    "Here we analyze and read amenities around the location, which were visited frequently, or where user stayed for long time.  "
   ]
  },
  {
   "cell_type": "code",
   "execution_count": 3,
   "metadata": {},
   "outputs": [
    {
     "name": "stdout",
     "output_type": "stream",
     "text": [
      "Backwerk, Potsdamer Platz, Tiergarten, Mitte, Berlin, 10785, Deutschland\n",
      "33.99882 -118.43657\n",
      "El Biod, daïra Mecheria, النعامة, الجزائر\n",
      "33.9988\n",
      "<class 'numpy.float64'>\n",
      "<class 'float'>\n"
     ]
    }
   ],
   "source": [
    "from geopy.geocoders import Nominatim\n",
    "\n",
    "#example location\n",
    "geolocator = Nominatim(user_agent=\"specify_your_app_name_here\")\n",
    "\n",
    "\n",
    "########## Choose location which is the third visited place ##################\n",
    "location = geolocator.reverse(\"52.509669, 13.376294\") #example of third place#\n",
    "print(location.address)\n",
    "##############################################################################\n",
    "\n",
    "#first location from data \n",
    "lat = df1.latitude.iloc[1]\n",
    "lon = df1.longitude.iloc[1]\n",
    "print(lat, lon)\n",
    "#lat = 52.52437 #Berlin example\n",
    "#lon = 13.41053\n",
    "location = geolocator.reverse(lat, lon)\n",
    "print(location.address)\n",
    "\n",
    "latrnd = np.around(lat, decimals=4)\n",
    "latfloat = np.float(lat)\n",
    "print(np.around(lat, decimals=4))\n",
    "print(type(latrnd))\n",
    "#Geopy can calculate geodesic distance between two points using the geodesic distance or the great-circle distance, with a default of the geodesic distance available as the function geopy.distance.distance.\n",
    "#Here’s an example usage of the geodesic distance:\n",
    "print(type(latfloat))"
   ]
  },
  {
   "cell_type": "markdown",
   "metadata": {},
   "source": [
    "### Statistics for amenities\n",
    "Here we calculate number of schools and other amenities in surrounding of the location.\n",
    "\n",
    "First we plot the map of the city and plot all streets around the given location.\n",
    "\n",
    "*Problem:*\n",
    "Here we use Openstreetmap information about the maps, although this information is not complete. "
   ]
  },
  {
   "cell_type": "code",
   "execution_count": null,
   "metadata": {},
   "outputs": [],
   "source": [
    "import networkx as nx\n",
    "import osmnx as ox\n",
    "import requests\n",
    "from matplotlib import pyplot as plt\n",
    "import matplotlib.cm as cm\n",
    "import matplotlib.colors as colors\n",
    "ox.config(use_cache=True, log_console=True)\n",
    "ox.__version__\n",
    "# get a graph for some city\n",
    "\n",
    "lat1 = np.float(lat) +0.02\n",
    "lat2 = np.float(lat) -0.02\n",
    "lon1 = np.float(lon) +0.03\n",
    "lon2 = np.float(lon) -0.03\n",
    "\n",
    "Coor_box = [lat1, lat2, lon1, lon2]\n",
    "G2 = ox.graph_from_bbox(\n",
    "    *SMALL_MARINA,\n",
    "    simplify=False,\n",
    "    retain_all=True,\n",
    "    network_type='drive',\n",
    "\n",
    ")\n",
    "fig2, ax2 = ox.plot_graph(G2, fig_height=20, fig_width=20)\n",
    "\n",
    "# get the nearest network node to each point\n",
    "\n",
    "good_orig_node = ox.get_nearest_node(G2, (25.070661, 55.137911), method='euclidean')\n",
    "bad_orig_node = ox.get_nearest_node(G2, (25.071764, 55.138978), method='euclidean')\n",
    "dest_node = ox.get_nearest_node(G2, (25.079223, 55.146241), method='euclidean')\n",
    "\n",
    "\n",
    "# find the route between location of a person and a school\n",
    "route = nx.shortest_path(G2, bad_orig_node, dest_node, weight='length')\n",
    "fig, ax = ox.plot_graph_route(G2, route, fig_height=20, fig_width=20)"
   ]
  },
  {
   "cell_type": "code",
   "execution_count": null,
   "metadata": {},
   "outputs": [],
   "source": [
    "import osmnx as ox\n",
    "from IPython.display import Image\n",
    "%matplotlib inline\n",
    "ox.config(log_console=True, use_cache=True)\n",
    "ox.__version__\n",
    "\n",
    "\n",
    "# configure the inline image display\n",
    "img_folder = 'images'\n",
    "extension = 'png'\n",
    "size = 240\n",
    "\n",
    "point = (np.float(lat), np.float(lon))\n",
    "dist = 612\n",
    "\n",
    "gdf = ox.footprints.footprints_from_point(point=point, distance=dist)\n",
    "print(type(gdf))\n",
    "gdf_proj = ox.project_gdf(gdf)\n",
    "bbox = ox.bbox_from_point(point=point, distance=dist, project_utm=True)\n",
    "fig, ax = ox.footprints.plot_footprints(gdf_proj, bgcolor='#333333', color='w', figsize=(4,4), bbox=bbox,\n",
    "                            save=True, show=False, close=True, filename='paris_bldgs', dpi=90)\n",
    "Image('{}/{}.{}'.format(img_folder, 'paris_bldgs', extension), height=size, width=size)"
   ]
  },
  {
   "cell_type": "markdown",
   "metadata": {},
   "source": [
    "# Search for schools\n",
    "\n",
    "We search for schools in the surroundings of the trajectory.\n"
   ]
  },
  {
   "cell_type": "code",
   "execution_count": null,
   "metadata": {},
   "outputs": [],
   "source": [
    "## Search for places to contribute around trajectory \n",
    "\n",
    "from shapely.geometry import Point, Polygon\n",
    "\n",
    "\n",
    "\n",
    "#lat = 52.52437 #Berlin example\n",
    "#lon = 13.41053\n",
    "\n",
    "# Create Point objects from trajectory:\n",
    "lat1 = np.float(lat) +0.02\n",
    "lat2 = np.float(lat) -0.02\n",
    "lon1 = np.float(lon) +0.03\n",
    "lon2 = np.float(lon) -0.03\n",
    "\n",
    "p1 = Point(lat1, lon1)\n",
    "p2 = Point(lat2, lon2)\n",
    "\n",
    "# Create a Polygon\n",
    "\n",
    "coords = [(24.950899, 60.169158), (24.953492, 60.169158), (24.953510, 60.170104), (24.950958, 60.169990)] #working example\n",
    "#coords = [(lat1, lon1), (lat1, lon2), (lat2, lon1), (lat2, lon2)]\n",
    "poly = Polygon(coords)\n",
    "\n",
    "#schools = ox.pois_from_place(place_name, amenities=['school']) #placename should be name of place str object\n",
    "\n",
    "schools = ox.pois.osm_poi_download(polygon=poly, amenities=['school'])# north=None, south=None, east=None, west=None, timeout=180, max_query_area_size=2500000000)\n",
    "\n",
    "# How many schools do we have in this district?\n",
    "print('number of schools',len(schools))\n",
    "#print(type(schools))\n",
    "\n",
    "# Available columns and names of amenity we are searching for\n",
    "#schools.columns"
   ]
  },
  {
   "cell_type": "markdown",
   "metadata": {},
   "source": [
    "\n",
    "# Opensteetreet amenities \n",
    "\n",
    "(Work in progress on extracting the information around locations)\n"
   ]
  },
  {
   "cell_type": "code",
   "execution_count": 6,
   "metadata": {},
   "outputs": [
    {
     "name": "stdout",
     "output_type": "stream",
     "text": [
      "{'version': 0.6, 'generator': 'Overpass API 0.7.55.1009 5e627b63', 'osm3s': {'timestamp_osm_base': '2019-11-27T18:10:02Z', 'copyright': 'The data included in this document is from www.openstreetmap.org. The data is made available under ODbL.'}, 'elements': [{'type': 'node', 'id': 280205414, 'lat': 13.7458894, 'lon': 100.5335488}, {'type': 'node', 'id': 297713248, 'lat': 13.7457155, 'lon': 100.533643}, {'type': 'node', 'id': 373097475, 'lat': 13.7457442, 'lon': 100.5332224, 'tags': {'bench': 'yes', 'colour': 'blue', 'highway': 'bus_stop', 'name': 'สยามสแควร์', 'name:en': 'Siam Square', 'name:th': 'สยามสแควร์', 'ref': '24', 'route_ref': '15; 16; 21; 25; 40; 48; 54; 73; 73ก; 141; 204; 501; 508', 'shelter': 'no'}}, {'type': 'node', 'id': 480774962, 'lat': 13.7457073, 'lon': 100.5332908}, {'type': 'node', 'id': 480774964, 'lat': 13.7458801, 'lon': 100.5333143}, {'type': 'node', 'id': 480774965, 'lat': 13.7456915, 'lon': 100.5332792}, {'type': 'node', 'id': 1692209237, 'lat': 13.7456236, 'lon': 100.5342199, 'tags': {'name': 'สยาม', 'name:en': 'Siam', 'name:th': 'สยาม', 'public_transport': 'station', 'railway': 'station', 'ref': 'CEN', 'station': 'subway'}}, {'type': 'node', 'id': 1696984927, 'lat': 13.7457175, 'lon': 100.5333042}, {'type': 'node', 'id': 1696984976, 'lat': 13.7458562, 'lon': 100.5333051}, {'type': 'node', 'id': 1696984979, 'lat': 13.7458457, 'lon': 100.5332925}, {'type': 'node', 'id': 1697004538, 'lat': 13.7456968, 'lon': 100.5342336, 'tags': {'name': 'สยาม', 'name:en': 'Siam', 'public_transport': 'stop_position', 'subway': 'yes'}}, {'type': 'node', 'id': 1697004542, 'lat': 13.7455463, 'lon': 100.5342054, 'tags': {'name': 'สยาม', 'name:en': 'Siam', 'public_transport': 'stop_position', 'subway': 'yes'}}, {'type': 'node', 'id': 1697004544, 'lat': 13.7455583, 'lon': 100.5342076, 'tags': {'name': 'สยาม', 'name:en': 'Siam', 'public_transport': 'stop_position', 'subway': 'yes'}}, {'type': 'node', 'id': 1697004551, 'lat': 13.745684, 'lon': 100.5342312, 'tags': {'name': 'สยาม', 'name:en': 'Siam', 'public_transport': 'stop_position', 'subway': 'yes'}}, {'type': 'node', 'id': 1697017196, 'lat': 13.7457304, 'lon': 100.534, 'tags': {'railway': 'subway_entrance', 'ref': '3'}}, {'type': 'node', 'id': 1697017206, 'lat': 13.7455931, 'lon': 100.5339752, 'tags': {'railway': 'subway_entrance', 'ref': '4'}}, {'type': 'node', 'id': 1697017224, 'lat': 13.745807, 'lon': 100.5335574, 'tags': {'railway': 'subway_entrance', 'ref': '1'}}, {'type': 'node', 'id': 1697017229, 'lat': 13.7456708, 'lon': 100.5335355, 'tags': {'name': '2', 'name:tr': 'saat', 'railway': 'subway_entrance', 'ref': '2'}}, {'type': 'node', 'id': 1697030008, 'lat': 13.7461252, 'lon': 100.5335912, 'tags': {'entrance': 'yes'}}, {'type': 'node', 'id': 1697030010, 'lat': 13.7460437, 'lon': 100.5336791}, {'type': 'node', 'id': 1697030013, 'lat': 13.7460286, 'lon': 100.5336422}, {'type': 'node', 'id': 1697030016, 'lat': 13.7457133, 'lon': 100.5342638}, {'type': 'node', 'id': 1697030017, 'lat': 13.7459983, 'lon': 100.5336712}, {'type': 'node', 'id': 1697030018, 'lat': 13.7459539, 'lon': 100.5339382}, {'type': 'node', 'id': 1697030023, 'lat': 13.7458693, 'lon': 100.533376}, {'type': 'node', 'id': 1697030035, 'lat': 13.7460401, 'lon': 100.5335759}, {'type': 'node', 'id': 1697030038, 'lat': 13.7459993, 'lon': 100.5339462}, {'type': 'node', 'id': 1697030040, 'lat': 13.7458437, 'lon': 100.5339789}, {'type': 'node', 'id': 1697030043, 'lat': 13.7458025, 'lon': 100.534238}, {'type': 'node', 'id': 1697030044, 'lat': 13.7459518, 'lon': 100.5336283}, {'type': 'node', 'id': 1697030047, 'lat': 13.7458944, 'lon': 100.5339874}, {'type': 'node', 'id': 1697065975, 'lat': 13.7456765, 'lon': 100.5338562}, {'type': 'node', 'id': 1697066016, 'lat': 13.7459175, 'lon': 100.5333833, 'tags': {'entrance': 'yes', 'level': '1', 'railway': 'subway_entrance'}}, {'type': 'node', 'id': 1698367046, 'lat': 13.7454942, 'lon': 100.5332107}, {'type': 'node', 'id': 1698367050, 'lat': 13.7455615, 'lon': 100.5335255}, {'type': 'node', 'id': 1698367059, 'lat': 13.745601, 'lon': 100.5333065, 'tags': {'entrance': 'yes', 'level': '2', 'railway': 'subway_entrance'}}, {'type': 'node', 'id': 1698367093, 'lat': 13.7454419, 'lon': 100.5335026}, {'type': 'node', 'id': 1698367098, 'lat': 13.7454724, 'lon': 100.5333499}, {'type': 'node', 'id': 1700279804, 'lat': 13.7453962, 'lon': 100.5335854}, {'type': 'node', 'id': 1700280133, 'lat': 13.7453789, 'lon': 100.5335077}, {'type': 'node', 'id': 1700280276, 'lat': 13.7454038, 'lon': 100.5333534}, {'type': 'node', 'id': 1700280596, 'lat': 13.7455299, 'lon': 100.5336096, 'tags': {'barrier': 'lift_gate'}}, {'type': 'node', 'id': 1756175767, 'lat': 13.745542, 'lon': 100.5334569, 'tags': {'amenity': 'cafe', 'name': 'True Coffee'}}, {'type': 'node', 'id': 2460247745, 'lat': 13.7455478, 'lon': 100.5342318}, {'type': 'node', 'id': 2460247746, 'lat': 13.7455585, 'lon': 100.534176}, {'type': 'node', 'id': 2460247748, 'lat': 13.7455636, 'lon': 100.5342347}, {'type': 'node', 'id': 2460247751, 'lat': 13.745568, 'lon': 100.5342094}, {'type': 'node', 'id': 2460247754, 'lat': 13.7455735, 'lon': 100.5341787}, {'type': 'node', 'id': 2460247758, 'lat': 13.7456679, 'lon': 100.5342559}, {'type': 'node', 'id': 2460247760, 'lat': 13.7456726, 'lon': 100.534229}, {'type': 'node', 'id': 2460247761, 'lat': 13.7456731, 'lon': 100.5333457}, {'type': 'node', 'id': 2460247762, 'lat': 13.7456776, 'lon': 100.5333203}, {'type': 'node', 'id': 2460247763, 'lat': 13.7456782, 'lon': 100.5341976}, {'type': 'node', 'id': 2460247764, 'lat': 13.7456796, 'lon': 100.5333469}, {'type': 'node', 'id': 2460247765, 'lat': 13.7456821, 'lon': 100.5332945}, {'type': 'node', 'id': 2460247766, 'lat': 13.7456886, 'lon': 100.5332957}, {'type': 'node', 'id': 2460247767, 'lat': 13.7456961, 'lon': 100.5342009}, {'type': 'node', 'id': 2460247768, 'lat': 13.7457029, 'lon': 100.5333512}, {'type': 'node', 'id': 2460247769, 'lat': 13.7457122, 'lon': 100.5333}, {'type': 'node', 'id': 2460247770, 'lat': 13.7457151, 'lon': 100.5332836}, {'type': 'node', 'id': 2460247771, 'lat': 13.7457217, 'lon': 100.5333547}, {'type': 'node', 'id': 2460247772, 'lat': 13.7457263, 'lon': 100.533329}, {'type': 'node', 'id': 2460247773, 'lat': 13.7457308, 'lon': 100.5333035}, {'type': 'node', 'id': 2460247775, 'lat': 13.745819, 'lon': 100.5333684}, {'type': 'node', 'id': 2460247776, 'lat': 13.7458227, 'lon': 100.533347}, {'type': 'node', 'id': 2460247777, 'lat': 13.745827, 'lon': 100.5333215}, {'type': 'node', 'id': 2460247778, 'lat': 13.7458378, 'lon': 100.5333713}, {'type': 'node', 'id': 2460247779, 'lat': 13.7458466, 'lon': 100.533325}, {'type': 'node', 'id': 2460247780, 'lat': 13.7458494, 'lon': 100.5333086}, {'type': 'node', 'id': 2460270195, 'lat': 13.7455458, 'lon': 100.5342432}, {'type': 'node', 'id': 2460270199, 'lat': 13.7455605, 'lon': 100.5341642}, {'type': 'node', 'id': 2460270201, 'lat': 13.7456984, 'lon': 100.5341876}, {'type': 'node', 'id': 2460270203, 'lat': 13.7457002, 'lon': 100.5333665}, {'type': 'node', 'id': 3699928237, 'lat': 13.7453185, 'lon': 100.5337947}, {'type': 'node', 'id': 3699928238, 'lat': 13.7453228, 'lon': 100.5340537}, {'type': 'node', 'id': 3699928239, 'lat': 13.7453252, 'lon': 100.5338724}, {'type': 'node', 'id': 3699928240, 'lat': 13.7453265, 'lon': 100.534116}, {'type': 'node', 'id': 3699928242, 'lat': 13.7453579, 'lon': 100.5341211}, {'type': 'node', 'id': 3699928243, 'lat': 13.7453797, 'lon': 100.534063}, {'type': 'node', 'id': 3699928244, 'lat': 13.7454087, 'lon': 100.5338095}, {'type': 'node', 'id': 3699928245, 'lat': 13.7454398, 'lon': 100.5338912}, {'type': 'node', 'id': 3699928246, 'lat': 13.7454552, 'lon': 100.5336354}, {'type': 'node', 'id': 5218412564, 'lat': 13.7460095, 'lon': 100.5341085}, {'type': 'node', 'id': 5218412565, 'lat': 13.74605, 'lon': 100.5340424}, {'type': 'node', 'id': 5218412566, 'lat': 13.7461093, 'lon': 100.5339937}, {'type': 'node', 'id': 5325028923, 'lat': 13.74528, 'lon': 100.5339013, 'tags': {'addr:postcode': '10330', 'addr:street': 'ถนนพระรามที่ 1', 'amenity': 'cafe', 'name:en': 'After You Dessert Cafe'}}, {'type': 'node', 'id': 5325120722, 'lat': 13.7454849, 'lon': 100.5333948, 'tags': {'amenity': 'cafe', 'name': 'B.Duck Cafe'}}, {'type': 'node', 'id': 5325120723, 'lat': 13.7453547, 'lon': 100.5337022, 'tags': {'name': 'LaLaMa', 'shop': 'clothes'}}, {'type': 'node', 'id': 5325125821, 'lat': 13.7453742, 'lon': 100.5337589, 'tags': {'name': 'Daiso', 'shop': 'department_store'}}, {'type': 'node', 'id': 5325125822, 'lat': 13.7452405, 'lon': 100.5338399, 'tags': {'name': 'Jane Lily (bags)', 'shop': 'clothes'}}, {'type': 'node', 'id': 5325126021, 'lat': 13.7452802, 'lon': 100.5337884, 'tags': {'name': 'Concept', 'shop': 'clothes'}}, {'type': 'node', 'id': 5325126022, 'lat': 13.7451684, 'lon': 100.5336376, 'tags': {'amenity': 'toilets', 'opening_hours': 'Mo-Su 09:00-22:00'}}, {'type': 'node', 'id': 6295189585, 'lat': 13.745415, 'lon': 100.533654, 'tags': {'amenity': 'cafe', 'name:en': 'høst x AMBER'}}, {'type': 'node', 'id': 6375832671, 'lat': 13.7454009, 'lon': 100.5335579, 'tags': {'barrier': 'entrance', 'foot': 'yes', 'motor_vehicle': 'private'}}, {'type': 'node', 'id': 6375832673, 'lat': 13.7454364, 'lon': 100.5333517}, {'type': 'node', 'id': 6375832674, 'lat': 13.7454377, 'lon': 100.5333438, 'tags': {'entrance': 'yes'}}, {'type': 'node', 'id': 6375832675, 'lat': 13.7454616, 'lon': 100.5332047, 'tags': {'entrance': 'yes'}}, {'type': 'node', 'id': 6375832677, 'lat': 13.7454788, 'lon': 100.5332314, 'tags': {'amenity': 'vending_machine', 'currency:THB': 'yes', 'currency:others': 'no', 'drink:soft_drink': 'canned', 'drink:tea': 'bottled', 'drink:water': 'bottled', 'payment:coins': 'yes', 'vending': 'drinks'}}, {'type': 'node', 'id': 6430553958, 'lat': 13.7456675, 'lon': 100.5334476, 'tags': {'building': 'kiosk', 'information': 'office', 'opening_hours': 'Mo-Su 09:00-17:00; PH closed', 'operator': 'กรุงเทพมหานคร', 'operator:wikidata': 'Q4855218', 'tourism': 'information'}}, {'type': 'node', 'id': 6478977619, 'lat': 13.7455268, 'lon': 100.5337308, 'tags': {'name': 'Siam Square', 'place': 'neighbourhood'}}]}\n"
     ]
    }
   ],
   "source": [
    "overpass_url = \"http://overpass-api.de/api/interpreter\"\n",
    "overpass_query = \"\"\"\n",
    "[out:json][timeout:25];\n",
    "(\n",
    "node(around:60.0,13.74567157,100.53371655);\n",
    ");\n",
    "out body;\n",
    "    \"\"\"\n",
    "response = requests.get(overpass_url,\n",
    "                        params={'data': overpass_query})\n",
    "data = response.json()\n",
    "print(data)"
   ]
  },
  {
   "cell_type": "code",
   "execution_count": null,
   "metadata": {},
   "outputs": [],
   "source": []
  }
 ],
 "metadata": {
  "kernelspec": {
   "display_name": "Python 3",
   "language": "python",
   "name": "python3"
  },
  "language_info": {
   "codemirror_mode": {
    "name": "ipython",
    "version": 3
   },
   "file_extension": ".py",
   "mimetype": "text/x-python",
   "name": "python",
   "nbconvert_exporter": "python",
   "pygments_lexer": "ipython3",
   "version": "3.7.4"
  }
 },
 "nbformat": 4,
 "nbformat_minor": 2
}
